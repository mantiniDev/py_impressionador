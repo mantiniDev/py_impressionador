{
 "cells": [
  {
   "cell_type": "code",
   "execution_count": 4,
   "metadata": {},
   "outputs": [],
   "source": [
    "produtos = ['tv', 'carro', 'armario', 'teclado']\n",
    "novos_produtos = ['celular', 'bola']"
   ]
  },
  {
   "cell_type": "code",
   "execution_count": 5,
   "metadata": {},
   "outputs": [
    {
     "name": "stdout",
     "output_type": "stream",
     "text": [
      "['tv', 'carro', 'armario', 'teclado', 'celular', 'bola']\n"
     ]
    }
   ],
   "source": [
    "produtos.extend(novos_produtos)\n",
    "print(produtos)"
   ]
  },
  {
   "cell_type": "code",
   "execution_count": 6,
   "metadata": {},
   "outputs": [
    {
     "name": "stdout",
     "output_type": "stream",
     "text": [
      "['tv', 'carro', 'armario', 'teclado', 'celular', 'bola', 'celular', 'bola']\n"
     ]
    }
   ],
   "source": [
    "todos = produtos + novos_produtos\n",
    "print(todos)"
   ]
  },
  {
   "cell_type": "code",
   "execution_count": 8,
   "metadata": {},
   "outputs": [
    {
     "name": "stdout",
     "output_type": "stream",
     "text": [
      "['armario', 'bola', 'carro', 'celular', 'teclado', 'tv']\n"
     ]
    }
   ],
   "source": [
    "produtos.sort()\n",
    "print(produtos)"
   ]
  }
 ],
 "metadata": {
  "kernelspec": {
   "display_name": "Python 3",
   "language": "python",
   "name": "python3"
  },
  "language_info": {
   "codemirror_mode": {
    "name": "ipython",
    "version": 3
   },
   "file_extension": ".py",
   "mimetype": "text/x-python",
   "name": "python",
   "nbconvert_exporter": "python",
   "pygments_lexer": "ipython3",
   "version": "3.11.1"
  },
  "orig_nbformat": 4
 },
 "nbformat": 4,
 "nbformat_minor": 2
}
