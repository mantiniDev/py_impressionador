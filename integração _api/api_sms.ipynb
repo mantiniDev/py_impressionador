{
 "cells": [
  {
   "cell_type": "code",
   "execution_count": 8,
   "metadata": {},
   "outputs": [
    {
     "ename": "TwilioRestException",
     "evalue": "HTTP 401 error: Unable to create record: Authenticate",
     "output_type": "error",
     "traceback": [
      "\u001b[1;31m---------------------------------------------------------------------------\u001b[0m",
      "\u001b[1;31mTwilioRestException\u001b[0m                       Traceback (most recent call last)",
      "\u001b[1;32mf:\\Repositorios\\Python\\py_impressionador\\integração _api\\api_sms.ipynb Célula 1\u001b[0m line \u001b[0;36m1\n\u001b[0;32m      <a href='vscode-notebook-cell:/f%3A/Repositorios/Python/py_impressionador/integra%C3%A7%C3%A3o%20_api/api_sms.ipynb#W1sZmlsZQ%3D%3D?line=7'>8</a>\u001b[0m auth_token \u001b[39m=\u001b[39m \u001b[39m'\u001b[39m\u001b[39mtoken\u001b[39m\u001b[39m'\u001b[39m\n\u001b[0;32m      <a href='vscode-notebook-cell:/f%3A/Repositorios/Python/py_impressionador/integra%C3%A7%C3%A3o%20_api/api_sms.ipynb#W1sZmlsZQ%3D%3D?line=8'>9</a>\u001b[0m client \u001b[39m=\u001b[39m Client(account_sid, auth_token)\n\u001b[0;32m     <a href='vscode-notebook-cell:/f%3A/Repositorios/Python/py_impressionador/integra%C3%A7%C3%A3o%20_api/api_sms.ipynb#W1sZmlsZQ%3D%3D?line=10'>11</a>\u001b[0m message \u001b[39m=\u001b[39m client\u001b[39m.\u001b[39;49mmessages \\\n\u001b[1;32m---> <a href='vscode-notebook-cell:/f%3A/Repositorios/Python/py_impressionador/integra%C3%A7%C3%A3o%20_api/api_sms.ipynb#W1sZmlsZQ%3D%3D?line=11'>12</a>\u001b[0m                 \u001b[39m.\u001b[39;49mcreate(\n\u001b[0;32m     <a href='vscode-notebook-cell:/f%3A/Repositorios/Python/py_impressionador/integra%C3%A7%C3%A3o%20_api/api_sms.ipynb#W1sZmlsZQ%3D%3D?line=12'>13</a>\u001b[0m                      \n\u001b[0;32m     <a href='vscode-notebook-cell:/f%3A/Repositorios/Python/py_impressionador/integra%C3%A7%C3%A3o%20_api/api_sms.ipynb#W1sZmlsZQ%3D%3D?line=13'>14</a>\u001b[0m                      from_\u001b[39m=\u001b[39;49m\u001b[39m'\u001b[39;49m\u001b[39m+12564140811\u001b[39;49m\u001b[39m'\u001b[39;49m,\n\u001b[0;32m     <a href='vscode-notebook-cell:/f%3A/Repositorios/Python/py_impressionador/integra%C3%A7%C3%A3o%20_api/api_sms.ipynb#W1sZmlsZQ%3D%3D?line=14'>15</a>\u001b[0m                      to\u001b[39m=\u001b[39;49m\u001b[39m'\u001b[39;49m\u001b[39m+5521995930261\u001b[39;49m\u001b[39m'\u001b[39;49m\n\u001b[0;32m     <a href='vscode-notebook-cell:/f%3A/Repositorios/Python/py_impressionador/integra%C3%A7%C3%A3o%20_api/api_sms.ipynb#W1sZmlsZQ%3D%3D?line=15'>16</a>\u001b[0m                  )\n\u001b[0;32m     <a href='vscode-notebook-cell:/f%3A/Repositorios/Python/py_impressionador/integra%C3%A7%C3%A3o%20_api/api_sms.ipynb#W1sZmlsZQ%3D%3D?line=17'>18</a>\u001b[0m \u001b[39mprint\u001b[39m(message\u001b[39m.\u001b[39msid)\n",
      "File \u001b[1;32mc:\\Users\\manti\\AppData\\Local\\Programs\\Python\\Python311\\Lib\\site-packages\\twilio\\rest\\api\\v2010\\account\\message\\__init__.py:565\u001b[0m, in \u001b[0;36mMessageList.create\u001b[1;34m(self, to, status_callback, application_sid, max_price, provide_feedback, attempt, validity_period, force_delivery, content_retention, address_retention, smart_encoded, persistent_action, shorten_urls, schedule_type, send_at, send_as_mms, content_variables, tags, risk_check, from_, messaging_service_sid, body, media_url, content_sid)\u001b[0m\n\u001b[0;32m    506\u001b[0m \u001b[39m\u001b[39m\u001b[39m\"\"\"\u001b[39;00m\n\u001b[0;32m    507\u001b[0m \u001b[39mCreate the MessageInstance\u001b[39;00m\n\u001b[0;32m    508\u001b[0m \n\u001b[1;32m   (...)\u001b[0m\n\u001b[0;32m    534\u001b[0m \u001b[39m:returns: The created MessageInstance\u001b[39;00m\n\u001b[0;32m    535\u001b[0m \u001b[39m\"\"\"\u001b[39;00m\n\u001b[0;32m    536\u001b[0m data \u001b[39m=\u001b[39m values\u001b[39m.\u001b[39mof(\n\u001b[0;32m    537\u001b[0m     {\n\u001b[0;32m    538\u001b[0m         \u001b[39m\"\u001b[39m\u001b[39mTo\u001b[39m\u001b[39m\"\u001b[39m: to,\n\u001b[1;32m   (...)\u001b[0m\n\u001b[0;32m    562\u001b[0m     }\n\u001b[0;32m    563\u001b[0m )\n\u001b[1;32m--> 565\u001b[0m payload \u001b[39m=\u001b[39m \u001b[39mself\u001b[39;49m\u001b[39m.\u001b[39;49m_version\u001b[39m.\u001b[39;49mcreate(\n\u001b[0;32m    566\u001b[0m     method\u001b[39m=\u001b[39;49m\u001b[39m\"\u001b[39;49m\u001b[39mPOST\u001b[39;49m\u001b[39m\"\u001b[39;49m,\n\u001b[0;32m    567\u001b[0m     uri\u001b[39m=\u001b[39;49m\u001b[39mself\u001b[39;49m\u001b[39m.\u001b[39;49m_uri,\n\u001b[0;32m    568\u001b[0m     data\u001b[39m=\u001b[39;49mdata,\n\u001b[0;32m    569\u001b[0m )\n\u001b[0;32m    571\u001b[0m \u001b[39mreturn\u001b[39;00m MessageInstance(\n\u001b[0;32m    572\u001b[0m     \u001b[39mself\u001b[39m\u001b[39m.\u001b[39m_version, payload, account_sid\u001b[39m=\u001b[39m\u001b[39mself\u001b[39m\u001b[39m.\u001b[39m_solution[\u001b[39m\"\u001b[39m\u001b[39maccount_sid\u001b[39m\u001b[39m\"\u001b[39m]\n\u001b[0;32m    573\u001b[0m )\n",
      "File \u001b[1;32mc:\\Users\\manti\\AppData\\Local\\Programs\\Python\\Python311\\Lib\\site-packages\\twilio\\base\\version.py:465\u001b[0m, in \u001b[0;36mVersion.create\u001b[1;34m(self, method, uri, params, data, headers, auth, timeout, allow_redirects)\u001b[0m\n\u001b[0;32m    451\u001b[0m \u001b[39m\u001b[39m\u001b[39m\"\"\"\u001b[39;00m\n\u001b[0;32m    452\u001b[0m \u001b[39mCreate a resource instance.\u001b[39;00m\n\u001b[0;32m    453\u001b[0m \u001b[39m\"\"\"\u001b[39;00m\n\u001b[0;32m    454\u001b[0m response \u001b[39m=\u001b[39m \u001b[39mself\u001b[39m\u001b[39m.\u001b[39mrequest(\n\u001b[0;32m    455\u001b[0m     method,\n\u001b[0;32m    456\u001b[0m     uri,\n\u001b[1;32m   (...)\u001b[0m\n\u001b[0;32m    462\u001b[0m     allow_redirects\u001b[39m=\u001b[39mallow_redirects,\n\u001b[0;32m    463\u001b[0m )\n\u001b[1;32m--> 465\u001b[0m \u001b[39mreturn\u001b[39;00m \u001b[39mself\u001b[39;49m\u001b[39m.\u001b[39;49m_parse_create(method, uri, response)\n",
      "File \u001b[1;32mc:\\Users\\manti\\AppData\\Local\\Programs\\Python\\Python311\\Lib\\site-packages\\twilio\\base\\version.py:436\u001b[0m, in \u001b[0;36mVersion._parse_create\u001b[1;34m(self, method, uri, response)\u001b[0m\n\u001b[0;32m    432\u001b[0m \u001b[39m\u001b[39m\u001b[39m\"\"\"\u001b[39;00m\n\u001b[0;32m    433\u001b[0m \u001b[39mParse create response JSON\u001b[39;00m\n\u001b[0;32m    434\u001b[0m \u001b[39m\"\"\"\u001b[39;00m\n\u001b[0;32m    435\u001b[0m \u001b[39mif\u001b[39;00m response\u001b[39m.\u001b[39mstatus_code \u001b[39m<\u001b[39m \u001b[39m200\u001b[39m \u001b[39mor\u001b[39;00m response\u001b[39m.\u001b[39mstatus_code \u001b[39m>\u001b[39m\u001b[39m=\u001b[39m \u001b[39m300\u001b[39m:\n\u001b[1;32m--> 436\u001b[0m     \u001b[39mraise\u001b[39;00m \u001b[39mself\u001b[39m\u001b[39m.\u001b[39mexception(method, uri, response, \u001b[39m\"\u001b[39m\u001b[39mUnable to create record\u001b[39m\u001b[39m\"\u001b[39m)\n\u001b[0;32m    438\u001b[0m \u001b[39mreturn\u001b[39;00m json\u001b[39m.\u001b[39mloads(response\u001b[39m.\u001b[39mtext)\n",
      "\u001b[1;31mTwilioRestException\u001b[0m: HTTP 401 error: Unable to create record: Authenticate"
     ]
    }
   ],
   "source": [
    "# Download the helper library from https://www.twilio.com/docs/python/install\n",
    "from twilio.rest import Client\n",
    "\n",
    "\n",
    "# Find your Account SID and Auth Token at twilio.com/console\n",
    "# and set the environment variables. See http://twil.io/secure\n",
    "account_sid = 'AC97043c4b8ce06f6658f193e6a6015e2e'\n",
    "auth_token = 'token'\n",
    "client = Client(account_sid, auth_token)\n",
    "\n",
    "message = client.messages \\\n",
    "                .create(\n",
    "                     body=\"Join Earth's mightiest heroes. Like Kevin Bacon.\",\n",
    "                     from_='+12564140811',\n",
    "                     to='+5521995930261'\n",
    "                 )\n",
    "\n",
    "print(message.sid)\n",
    "\n",
    "\n"
   ]
  }
 ],
 "metadata": {
  "kernelspec": {
   "display_name": "Python 3",
   "language": "python",
   "name": "python3"
  },
  "language_info": {
   "codemirror_mode": {
    "name": "ipython",
    "version": 3
   },
   "file_extension": ".py",
   "mimetype": "text/x-python",
   "name": "python",
   "nbconvert_exporter": "python",
   "pygments_lexer": "ipython3",
   "version": "3.11.5"
  },
  "orig_nbformat": 4
 },
 "nbformat": 4,
 "nbformat_minor": 2
}
